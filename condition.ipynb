{
 "cells": [
  {
   "cell_type": "code",
   "execution_count": 2,
   "metadata": {},
   "outputs": [
    {
     "ename": "SyntaxError",
     "evalue": "unterminated string literal (detected at line 5) (1342593919.py, line 5)",
     "output_type": "error",
     "traceback": [
      "\u001b[1;36m  Input \u001b[1;32mIn [2]\u001b[1;36m\u001b[0m\n\u001b[1;33m    if q=='no :\u001b[0m\n\u001b[1;37m          ^\u001b[0m\n\u001b[1;31mSyntaxError\u001b[0m\u001b[1;31m:\u001b[0m unterminated string literal (detected at line 5)\n"
     ]
    }
   ],
   "source": [
    "print('you see an apple seller')\n",
    "q = input('do you like apple?')\n",
    "if q=='yes' :\n",
    "    print('purchese 2 kg apple')\n",
    "if q=='no :\n",
    "     print('purchese 2 kg app"
   ]
  },
  {
   "cell_type": "code",
   "execution_count": 1,
   "metadata": {},
   "outputs": [
    {
     "name": "stdout",
     "output_type": "stream",
     "text": [
      "x is greater than 5\n",
      "this is the info we needed\n",
      "with this power,comes great responsibility\n",
      "the end\n"
     ]
    }
   ],
   "source": [
    "x =10\n",
    "if x >5:\n",
    "    print('x is greater than 5')\n",
    "    print('this is the info we needed')\n",
    "    print('with this power,comes great responsibility')\n",
    "print('the end')"
   ]
  },
  {
   "cell_type": "code",
   "execution_count": 6,
   "metadata": {},
   "outputs": [
    {
     "name": "stdout",
     "output_type": "stream",
     "text": [
      "wear long pants.\n",
      "Get some exercise outside.\n"
     ]
    }
   ],
   "source": [
    "temp = float(input('what is the temparature?'))\n",
    "if temp >70:\n",
    "    print('wear shorts.')\n",
    "else:\n",
    "    print('wear long pants.')\n",
    "print('Get some exercise outside.')"
   ]
  },
  {
   "cell_type": "code",
   "execution_count": 19,
   "metadata": {},
   "outputs": [
    {
     "name": "stdout",
     "output_type": "stream",
     "text": [
      "363.825\n"
     ]
    }
   ],
   "source": [
    "# wap to calculate the total bill of customer ,gst is 5%. if the amount is less than 500 then give discount of 10% ,else give discount of 20%\n",
    " \n",
    "\n",
    "\n",
    "amt =float(input(\"enter the bill amt:\"))\n",
    "gst = amt *.05\n",
    "total = amt + gst\n",
    "if total < 500:\n",
    "    disc = total *.01\n",
    "    final =total - disc\n",
    "    print(final)\n",
    "else:\n",
    "    disc =total *.02\n",
    "    final =tatal-disc\n",
    "    print(final)\n"
   ]
  },
  {
   "cell_type": "code",
   "execution_count": 24,
   "metadata": {},
   "outputs": [
    {
     "name": "stdout",
     "output_type": "stream",
     "text": [
      "A\n"
     ]
    }
   ],
   "source": [
    "score = int(input('your score ->'))\n",
    "if score >=90:\n",
    "    letter ='A'\n",
    "elif score >=80:\n",
    "    letter ='B'\n",
    "elif score >=70:\n",
    "    letter ='C'\n",
    "elif score >=60:\n",
    "    letter ='D'\n",
    "else:\n",
    "    letter ='F'\n",
    "print(letter)\n"
   ]
  },
  {
   "cell_type": "code",
   "execution_count": 25,
   "metadata": {},
   "outputs": [
    {
     "name": "stdout",
     "output_type": "stream",
     "text": [
      "42\n",
      "Bob\n"
     ]
    }
   ],
   "source": [
    "# one-liner Alternative 1:\n",
    "if 42 in range(100):print(\"42\")\n",
    "\n",
    "\n",
    "\n",
    "\n",
    "# one-liner Alternative 2:\n",
    "x =\"Alice\" if \"Jan\" in \"My name is Jonas\" else \"Bob\"\n",
    "print(x)\n"
   ]
  }
 ],
 "metadata": {
  "interpreter": {
   "hash": "f3d83e893199c2dd13952e2d652bbad60e6a99e7cbf3258554c8ec088feab5ba"
  },
  "kernelspec": {
   "display_name": "Python 3.10.4 64-bit",
   "language": "python",
   "name": "python3"
  },
  "language_info": {
   "codemirror_mode": {
    "name": "ipython",
    "version": 3
   },
   "file_extension": ".py",
   "mimetype": "text/x-python",
   "name": "python",
   "nbconvert_exporter": "python",
   "pygments_lexer": "ipython3",
   "version": "3.10.4"
  },
  "orig_nbformat": 4
 },
 "nbformat": 4,
 "nbformat_minor": 2
}
