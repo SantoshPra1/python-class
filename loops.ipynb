{
 "cells": [
  {
   "cell_type": "markdown",
   "metadata": {},
   "source": [
    "loops"
   ]
  },
  {
   "cell_type": "code",
   "execution_count": 8,
   "metadata": {},
   "outputs": [
    {
     "name": "stdout",
     "output_type": "stream",
     "text": [
      "P\n",
      "Y\n",
      "T\n",
      "H\n",
      "O\n",
      "N\n"
     ]
    }
   ],
   "source": [
    "x = 'PYTHON'\n",
    "for i in x:\n",
    "    print(i)\n"
   ]
  },
  {
   "cell_type": "code",
   "execution_count": 7,
   "metadata": {},
   "outputs": [
    {
     "name": "stdout",
     "output_type": "stream",
     "text": [
      "O\n",
      "n\n",
      "c\n",
      "e\n"
     ]
    }
   ],
   "source": [
    "story =\"Once\"\n",
    "for char in story:\n",
    "    print(char)"
   ]
  },
  {
   "cell_type": "code",
   "execution_count": 26,
   "metadata": {},
   "outputs": [
    {
     "name": "stdout",
     "output_type": "stream",
     "text": [
      "alice 5\n",
      "Bob 3\n",
      "charlie 7\n",
      "david 5\n",
      "Eve 3\n",
      "frank 5\n"
     ]
    }
   ],
   "source": [
    "names =['alice','Bob','charlie','david','Eve', 'frank']\n",
    "for name in names:\n",
    "\n",
    " print(name,len(name))"
   ]
  },
  {
   "cell_type": "code",
   "execution_count": 28,
   "metadata": {},
   "outputs": [
    {
     "name": "stdout",
     "output_type": "stream",
     "text": [
      "i have apple\n",
      "i have grapes\n",
      "i have mango\n"
     ]
    }
   ],
   "source": [
    "fruits =['apple','grapes','mango']\n",
    "for item in fruits:\n",
    "    print(f'i have {item}')"
   ]
  },
  {
   "cell_type": "code",
   "execution_count": 29,
   "metadata": {},
   "outputs": [
    {
     "name": "stdout",
     "output_type": "stream",
     "text": [
      "you got point 0\n",
      "you got point 1\n",
      "you got point 2\n",
      "you got point 3\n",
      "you got point 4\n",
      "you got point 5\n",
      "you got point 6\n",
      "you got point 7\n",
      "you got point 8\n",
      "you got point 9\n",
      "you got point 10\n"
     ]
    }
   ],
   "source": [
    " for i in range(11):\n",
    "     print('you got point',i)"
   ]
  },
  {
   "cell_type": "code",
   "execution_count": 22,
   "metadata": {},
   "outputs": [
    {
     "name": "stdout",
     "output_type": "stream",
     "text": [
      "50.0\n"
     ]
    }
   ],
   "source": [
    "# wap to calculate the avarage of all numbers from 1 t0 100\n",
    "total = 0\n",
    "for i in range(1,100):\n",
    "     total +=i\n",
    "     mean = total / 99\n",
    "print(mean)\n"
   ]
  },
  {
   "cell_type": "code",
   "execution_count": 19,
   "metadata": {},
   "outputs": [
    {
     "name": "stdout",
     "output_type": "stream",
     "text": [
      "1683\n",
      "104\n"
     ]
    }
   ],
   "source": [
    "# wap to add all number divisible by 3 from range 1 to 100\n",
    "\n",
    "total =0\n",
    "for i in range(1 ,100):\n",
    "    if i%3 ==0:\n",
    "        total +=i\n",
    "print(total)\n",
    "\n",
    "\n",
    "\n",
    "\n",
    "\n",
    "total=0\n",
    "for i in (1,100,3):\n",
    "    total +=i\n",
    "print(total)\n"
   ]
  },
  {
   "cell_type": "markdown",
   "metadata": {},
   "source": [
    "  while loop "
   ]
  },
  {
   "cell_type": "code",
   "execution_count": 1,
   "metadata": {},
   "outputs": [
    {
     "name": "stdout",
     "output_type": "stream",
     "text": [
      "run\n",
      "run\n",
      "run\n",
      "run\n",
      "stop\n"
     ]
    }
   ],
   "source": [
    "x = 1\n",
    "while x<5:\n",
    "    print('run')\n",
    "    x +=1\n",
    "print('stop')"
   ]
  },
  {
   "cell_type": "code",
   "execution_count": 5,
   "metadata": {},
   "outputs": [
    {
     "name": "stdout",
     "output_type": "stream",
     "text": [
      "the sum is  55\n"
     ]
    }
   ],
   "source": [
    "# a complex program\n",
    "\n",
    "n = 10\n",
    "\n",
    "# insitilize sum and counter\n",
    "\n",
    "sum = 0\n",
    "i = 1\n",
    "while i <= n:\n",
    "    sum = sum+i \n",
    "    i=i+1  # update counter\n",
    "\n",
    "    # print the sum\n",
    "\n",
    "print('the sum is ',sum)"
   ]
  },
  {
   "cell_type": "code",
   "execution_count": 8,
   "metadata": {},
   "outputs": [
    {
     "ename": "NameError",
     "evalue": "name 'data' is not defined",
     "output_type": "error",
     "traceback": [
      "\u001b[1;31m---------------------------------------------------------------------------\u001b[0m",
      "\u001b[1;31mNameError\u001b[0m                                 Traceback (most recent call last)",
      "\u001b[1;32mc:\\python class\\loops.ipynb Cell 12'\u001b[0m in \u001b[0;36m<cell line: 3>\u001b[1;34m()\u001b[0m\n\u001b[0;32m      <a href='vscode-notebook-cell:/c%3A/python%20class/loops.ipynb#ch0000011?line=0'>1</a>\u001b[0m \u001b[39m# break\u001b[39;00m\n\u001b[1;32m----> <a href='vscode-notebook-cell:/c%3A/python%20class/loops.ipynb#ch0000011?line=2'>3</a>\u001b[0m data [\u001b[39m1\u001b[39m,\u001b[39m2\u001b[39m,\u001b[39m3\u001b[39m,\u001b[39m4\u001b[39m,\u001b[39m5\u001b[39m,\u001b[39m6\u001b[39m,\u001b[39m-\u001b[39m\u001b[39m1\u001b[39m,\u001b[39m7\u001b[39m,\u001b[39m8\u001b[39m,\u001b[39m9\u001b[39m,\u001b[39m10\u001b[39m]\n\u001b[0;32m      <a href='vscode-notebook-cell:/c%3A/python%20class/loops.ipynb#ch0000011?line=4'>5</a>\u001b[0m \u001b[39mfor\u001b[39;00m val \u001b[39min\u001b[39;00m data:\n\u001b[0;32m      <a href='vscode-notebook-cell:/c%3A/python%20class/loops.ipynb#ch0000011?line=5'>6</a>\u001b[0m     \u001b[39mif\u001b[39;00m val \u001b[39m<\u001b[39m \u001b[39m0\u001b[39m:\n",
      "\u001b[1;31mNameError\u001b[0m: name 'data' is not defined"
     ]
    }
   ],
   "source": [
    "# break\n",
    "\n",
    "data [1,2,3,4,5,6,-1,7,8,9,10]\n",
    "\n",
    "for val in data:\n",
    "    if val < 0:\n",
    "        break\n",
    "    print(val)"
   ]
  },
  {
   "cell_type": "code",
   "execution_count": 9,
   "metadata": {},
   "outputs": [
    {
     "name": "stdout",
     "output_type": "stream",
     "text": [
      "1\n",
      "2\n",
      "3\n",
      "4\n",
      "5\n"
     ]
    }
   ],
   "source": [
    "for i in range (1,100):\n",
    "    print(i)\n",
    "    if i % 5 ==0:\n",
    "        break"
   ]
  },
  {
   "cell_type": "code",
   "execution_count": 13,
   "metadata": {},
   "outputs": [
    {
     "name": "stdout",
     "output_type": "stream",
     "text": [
      "you entered mobile\n",
      "you entered key\n",
      "you entered laptop\n",
      "the end\n"
     ]
    }
   ],
   "source": [
    "size = 100\n",
    "start = 1\n",
    "\n",
    "while start <= size:\n",
    "    name = input('enter a name of product')\n",
    "    if name ==\"end\":\n",
    "        break\n",
    "    print(f\"you entered {name}\")\n",
    "    start+=2\n",
    "print('the end')"
   ]
  },
  {
   "cell_type": "code",
   "execution_count": 14,
   "metadata": {},
   "outputs": [
    {
     "name": "stdout",
     "output_type": "stream",
     "text": [
      "i know\n",
      "i know\n",
      "i know\n"
     ]
    }
   ],
   "source": [
    "# continue\n",
    "\n",
    "for name in name:\n",
    "    if len(name)>0:\n",
    "        print(f'i know')\n"
   ]
  },
  {
   "cell_type": "code",
   "execution_count": 18,
   "metadata": {},
   "outputs": [
    {
     "ename": "NameError",
     "evalue": "name 'true' is not defined",
     "output_type": "error",
     "traceback": [
      "\u001b[1;31m---------------------------------------------------------------------------\u001b[0m",
      "\u001b[1;31mNameError\u001b[0m                                 Traceback (most recent call last)",
      "\u001b[1;32mc:\\python class\\loops.ipynb Cell 16'\u001b[0m in \u001b[0;36m<cell line: 2>\u001b[1;34m()\u001b[0m\n\u001b[0;32m      <a href='vscode-notebook-cell:/c%3A/python%20class/loops.ipynb#ch0000015?line=0'>1</a>\u001b[0m story \u001b[39m=\u001b[39m \u001b[39m\"\u001b[39m\u001b[39m\"\u001b[39m\n\u001b[1;32m----> <a href='vscode-notebook-cell:/c%3A/python%20class/loops.ipynb#ch0000015?line=1'>2</a>\u001b[0m \u001b[39mwhile\u001b[39;00m true :\n\u001b[0;32m      <a href='vscode-notebook-cell:/c%3A/python%20class/loops.ipynb#ch0000015?line=2'>3</a>\u001b[0m     line \u001b[39m=\u001b[39m \u001b[39minput\u001b[39m (\u001b[39m\"\u001b[39m\u001b[39menter a line\u001b[39m\u001b[39m\"\u001b[39m)\n\u001b[0;32m      <a href='vscode-notebook-cell:/c%3A/python%20class/loops.ipynb#ch0000015?line=3'>4</a>\u001b[0m     \u001b[39mif\u001b[39;00m line \u001b[39m==\u001b[39m \u001b[39m\"\u001b[39m\u001b[39mend\u001b[39m\u001b[39m\"\u001b[39m:\n",
      "\u001b[1;31mNameError\u001b[0m: name 'true' is not defined"
     ]
    }
   ],
   "source": [
    "\n",
    "\n",
    "story = \"\"\n",
    "while true :\n",
    "    line = input (\"enter a line\")\n",
    "    if line == \"end\":\n",
    "        break\n",
    "    else:\n",
    "        story+= line +\"\\n\"\n",
    "print (\"you have written\")\n",
    "print(story)"
   ]
  },
  {
   "cell_type": "code",
   "execution_count": 21,
   "metadata": {},
   "outputs": [
    {
     "name": "stdout",
     "output_type": "stream",
     "text": [
      "we have  apple\n",
      "we have  banana\n",
      "we have  mango\n",
      "thats all\n"
     ]
    }
   ],
   "source": [
    "fruits = ['apple','banana','mango']\n",
    "for fruit in fruits:\n",
    "    print('we have ',fruit)\n",
    "else:\n",
    "    print('thats all')"
   ]
  },
  {
   "cell_type": "code",
   "execution_count": 22,
   "metadata": {},
   "outputs": [
    {
     "name": "stdout",
     "output_type": "stream",
     "text": [
      "apple\n",
      "banana\n",
      "mango\n",
      "gauava\n",
      "cheery\n",
      "all fruit are listed\n"
     ]
    }
   ],
   "source": [
    "fruits = ['apple','banana','mango','gauava','cheery']\n",
    "\n",
    "for fruit in fruits:\n",
    "    print(fruit)\n",
    "    if fruit == 'cherry':\n",
    "        break\n",
    "else:\n",
    "    print('all fruit are listed')"
   ]
  },
  {
   "cell_type": "code",
   "execution_count": 25,
   "metadata": {},
   "outputs": [
    {
     "name": "stdout",
     "output_type": "stream",
     "text": [
      "5463671 is a 😉prime number\n"
     ]
    }
   ],
   "source": [
    "number = int(input('enter a number'))\n",
    "for i in range(2,number):\n",
    "    if number % i==0:\n",
    "        print(f'{number} is not a prime number')\n",
    "        break\n",
    "else:\n",
    "    print(f'{number} is a 😉prime number')\n"
   ]
  },
  {
   "cell_type": "code",
   "execution_count": null,
   "metadata": {},
   "outputs": [],
   "source": []
  }
 ],
 "metadata": {
  "interpreter": {
   "hash": "f3d83e893199c2dd13952e2d652bbad60e6a99e7cbf3258554c8ec088feab5ba"
  },
  "kernelspec": {
   "display_name": "Python 3.10.4 64-bit",
   "language": "python",
   "name": "python3"
  },
  "language_info": {
   "codemirror_mode": {
    "name": "ipython",
    "version": 3
   },
   "file_extension": ".py",
   "mimetype": "text/x-python",
   "name": "python",
   "nbconvert_exporter": "python",
   "pygments_lexer": "ipython3",
   "version": "3.10.4"
  },
  "orig_nbformat": 4
 },
 "nbformat": 4,
 "nbformat_minor": 2
}
