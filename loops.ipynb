{
 "cells": [
  {
   "cell_type": "markdown",
   "metadata": {},
   "source": [
    "loops"
   ]
  },
  {
   "cell_type": "code",
   "execution_count": 8,
   "metadata": {},
   "outputs": [
    {
     "name": "stdout",
     "output_type": "stream",
     "text": [
      "P\n",
      "Y\n",
      "T\n",
      "H\n",
      "O\n",
      "N\n"
     ]
    }
   ],
   "source": [
    "x = 'PYTHON'\n",
    "for i in x:\n",
    "    print(i)\n"
   ]
  },
  {
   "cell_type": "code",
   "execution_count": 7,
   "metadata": {},
   "outputs": [
    {
     "name": "stdout",
     "output_type": "stream",
     "text": [
      "O\n",
      "n\n",
      "c\n",
      "e\n"
     ]
    }
   ],
   "source": [
    "story =\"Once\"\n",
    "for char in story:\n",
    "    print(char)"
   ]
  },
  {
   "cell_type": "code",
   "execution_count": 26,
   "metadata": {},
   "outputs": [
    {
     "name": "stdout",
     "output_type": "stream",
     "text": [
      "alice 5\n",
      "Bob 3\n",
      "charlie 7\n",
      "david 5\n",
      "Eve 3\n",
      "frank 5\n"
     ]
    }
   ],
   "source": [
    "names =['alice','Bob','charlie','david','Eve', 'frank']\n",
    "for name in names:\n",
    "\n",
    " print(name,len(name))"
   ]
  },
  {
   "cell_type": "code",
   "execution_count": 28,
   "metadata": {},
   "outputs": [
    {
     "name": "stdout",
     "output_type": "stream",
     "text": [
      "i have apple\n",
      "i have grapes\n",
      "i have mango\n"
     ]
    }
   ],
   "source": [
    "fruits =['apple','grapes','mango']\n",
    "for item in fruits:\n",
    "    print(f'i have {item}')"
   ]
  },
  {
   "cell_type": "code",
   "execution_count": 29,
   "metadata": {},
   "outputs": [
    {
     "name": "stdout",
     "output_type": "stream",
     "text": [
      "you got point 0\n",
      "you got point 1\n",
      "you got point 2\n",
      "you got point 3\n",
      "you got point 4\n",
      "you got point 5\n",
      "you got point 6\n",
      "you got point 7\n",
      "you got point 8\n",
      "you got point 9\n",
      "you got point 10\n"
     ]
    }
   ],
   "source": [
    " for i in range(11):\n",
    "     print('you got point',i)"
   ]
  },
  {
   "cell_type": "code",
   "execution_count": 22,
   "metadata": {},
   "outputs": [
    {
     "name": "stdout",
     "output_type": "stream",
     "text": [
      "50.0\n"
     ]
    }
   ],
   "source": [
    "# wap to calculate the avarage of all numbers from 1 t0 100\n",
    "total = 0\n",
    "for i in range(1,100):\n",
    "     total +=i\n",
    "     mean = total / 99\n",
    "print(mean)\n"
   ]
  },
  {
   "cell_type": "code",
   "execution_count": 19,
   "metadata": {},
   "outputs": [
    {
     "name": "stdout",
     "output_type": "stream",
     "text": [
      "1683\n",
      "104\n"
     ]
    }
   ],
   "source": [
    "# wap to add all number divisible by 3 from range 1 to 100\n",
    "\n",
    "total =0\n",
    "for i in range(1 ,100):\n",
    "    if i%3 ==0:\n",
    "        total +=i\n",
    "print(total)\n",
    "\n",
    "\n",
    "\n",
    "\n",
    "\n",
    "total=0\n",
    "for i in (1,100,3):\n",
    "    total +=i\n",
    "print(total)\n"
   ]
  }
 ],
 "metadata": {
  "interpreter": {
   "hash": "f3d83e893199c2dd13952e2d652bbad60e6a99e7cbf3258554c8ec088feab5ba"
  },
  "kernelspec": {
   "display_name": "Python 3.10.4 64-bit",
   "language": "python",
   "name": "python3"
  },
  "language_info": {
   "codemirror_mode": {
    "name": "ipython",
    "version": 3
   },
   "file_extension": ".py",
   "mimetype": "text/x-python",
   "name": "python",
   "nbconvert_exporter": "python",
   "pygments_lexer": "ipython3",
   "version": "3.10.4"
  },
  "orig_nbformat": 4
 },
 "nbformat": 4,
 "nbformat_minor": 2
}
