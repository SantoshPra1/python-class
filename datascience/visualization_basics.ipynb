{
 "cells": [
  {
   "cell_type": "code",
   "execution_count": 1,
   "metadata": {},
   "outputs": [
    {
     "ename": "NameError",
     "evalue": "name 'plt' is not defined",
     "output_type": "error",
     "traceback": [
      "\u001b[1;31m---------------------------------------------------------------------------\u001b[0m",
      "\u001b[1;31mNameError\u001b[0m                                 Traceback (most recent call last)",
      "\u001b[1;32mc:\\python class\\datascience\\visualization_basics.ipynb Cell 1\u001b[0m in \u001b[0;36m<cell line: 3>\u001b[1;34m()\u001b[0m\n\u001b[0;32m      <a href='vscode-notebook-cell:/c%3A/python%20class/datascience/visualization_basics.ipynb#ch0000000?line=0'>1</a>\u001b[0m cities \u001b[39m=\u001b[39m[\u001b[39m'\u001b[39m\u001b[39mlucknow\u001b[39m\u001b[39m'\u001b[39m, \u001b[39m'\u001b[39m\u001b[39mmumbai\u001b[39m\u001b[39m'\u001b[39m,\u001b[39m'\u001b[39m\u001b[39mchennai\u001b[39m\u001b[39m'\u001b[39m,\u001b[39m'\u001b[39m\u001b[39modisa\u001b[39m\u001b[39m'\u001b[39m,\u001b[39m'\u001b[39m\u001b[39mpune\u001b[39m\u001b[39m'\u001b[39m]\n\u001b[0;32m      <a href='vscode-notebook-cell:/c%3A/python%20class/datascience/visualization_basics.ipynb#ch0000000?line=1'>2</a>\u001b[0m rainfall \u001b[39m=\u001b[39m[\u001b[39m39\u001b[39m,\u001b[39m45\u001b[39m,\u001b[39m78\u001b[39m,\u001b[39m50\u001b[39m,\u001b[39m29\u001b[39m]\n\u001b[1;32m----> <a href='vscode-notebook-cell:/c%3A/python%20class/datascience/visualization_basics.ipynb#ch0000000?line=2'>3</a>\u001b[0m plt\u001b[39m.\u001b[39mbar(cities,rainfall)\n",
      "\u001b[1;31mNameError\u001b[0m: name 'plt' is not defined"
     ]
    }
   ],
   "source": [
    "cities =['lucknow', 'mumbai','chennai','odisa','pune']\n",
    "rainfall =[39,45,78,50,29]\n",
    "plt.bar(cities,rainfall)"
   ]
  }
 ],
 "metadata": {
  "kernelspec": {
   "display_name": "Python 3.10.4 64-bit",
   "language": "python",
   "name": "python3"
  },
  "language_info": {
   "codemirror_mode": {
    "name": "ipython",
    "version": 3
   },
   "file_extension": ".py",
   "mimetype": "text/x-python",
   "name": "python",
   "nbconvert_exporter": "python",
   "pygments_lexer": "ipython3",
   "version": "3.10.4"
  },
  "orig_nbformat": 4,
  "vscode": {
   "interpreter": {
    "hash": "f3d83e893199c2dd13952e2d652bbad60e6a99e7cbf3258554c8ec088feab5ba"
   }
  }
 },
 "nbformat": 4,
 "nbformat_minor": 2
}
