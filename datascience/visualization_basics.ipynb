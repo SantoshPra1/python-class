{
 "cells": [
  {
   "cell_type": "code",
   "execution_count": null,
   "metadata": {},
   "outputs": [],
   "source": [
    "cities =['lucknow', 'mumbai','chennai','odisa','pune']\n",
    "rainfall =[39,45,78,50,29]\n",
    "plt.barchart(cities,rainfall)"
   ]
  }
 ],
 "metadata": {
  "kernelspec": {
   "display_name": "Python 3.10.4 64-bit",
   "language": "python",
   "name": "python3"
  },
  "language_info": {
   "codemirror_mode": {
    "name": "ipython",
    "version": 3
   },
   "file_extension": ".py",
   "mimetype": "text/x-python",
   "name": "python",
   "nbconvert_exporter": "python",
   "pygments_lexer": "ipython3",
   "version": "3.10.4"
  },
  "orig_nbformat": 4,
  "vscode": {
   "interpreter": {
    "hash": "f3d83e893199c2dd13952e2d652bbad60e6a99e7cbf3258554c8ec088feab5ba"
   }
  }
 },
 "nbformat": 4,
 "nbformat_minor": 2
}
