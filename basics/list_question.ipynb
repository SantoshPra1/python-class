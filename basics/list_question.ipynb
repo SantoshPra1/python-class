{
 "cells": [
  {
   "cell_type": "markdown",
   "metadata": {},
   "source": [
    "\n",
    "Question 1. Create a list of size n, with random numbers from 0 to 100"
   ]
  },
  {
   "cell_type": "code",
   "execution_count": null,
   "metadata": {},
   "outputs": [],
   "source": [
    "from random import randint\n",
    "\n",
    "n = int(input(\"Size of List: \")) # size of list\n",
    "x = []                           # empty list\n",
    "for i in range(n):\n",
    "    val = randint(1,100)         # random number between 1 and 100\n",
    "    x.append(val)                # add value to list\n",
    "print(x)"
   ]
  },
  {
   "cell_type": "markdown",
   "metadata": {},
   "source": [
    "Question 2. Calculate the mean, max, min, sum of the list"
   ]
  },
  {
   "cell_type": "code",
   "execution_count": 1,
   "metadata": {},
   "outputs": [
    {
     "ename": "NameError",
     "evalue": "name 'x' is not defined",
     "output_type": "error",
     "traceback": [
      "\u001b[1;31m---------------------------------------------------------------------------\u001b[0m",
      "\u001b[1;31mNameError\u001b[0m                                 Traceback (most recent call last)",
      "\u001b[1;32mc:\\python class\\basics\\list_question.ipynb Cell 4\u001b[0m in \u001b[0;36m<cell line: 1>\u001b[1;34m()\u001b[0m\n\u001b[1;32m----> <a href='vscode-notebook-cell:/c%3A/python%20class/basics/list_question.ipynb#ch0000003?line=0'>1</a>\u001b[0m total \u001b[39m=\u001b[39m \u001b[39msum\u001b[39m(x)\n\u001b[0;32m      <a href='vscode-notebook-cell:/c%3A/python%20class/basics/list_question.ipynb#ch0000003?line=1'>2</a>\u001b[0m xmin \u001b[39m=\u001b[39m \u001b[39mmin\u001b[39m(x)\n\u001b[0;32m      <a href='vscode-notebook-cell:/c%3A/python%20class/basics/list_question.ipynb#ch0000003?line=2'>3</a>\u001b[0m xmax \u001b[39m=\u001b[39m \u001b[39mmax\u001b[39m(x)\n",
      "\u001b[1;31mNameError\u001b[0m: name 'x' is not defined"
     ]
    }
   ],
   "source": [
    "total = sum(x)\n",
    "xmin = min(x)\n",
    "xmax = max(x)\n",
    "xmean = total/len(x)\n",
    "print(\"Total:\", total)\n",
    "print(\"Min:\", xmin)\n",
    "print(\"Max:\", xmax)\n",
    "print(\"Mean:\", xmean)\n",
    "\n",
    "# more builtins functiosn at python.org"
   ]
  },
  {
   "cell_type": "markdown",
   "metadata": {},
   "source": [
    "Question3. generate a list of 25 elements, then create a smaller list of numbers from that list based on the following conditions:\n",
    "number that is divisible by 3\n",
    "number that is divisible by 5\n",
    "number that is divisible by both 3 and 5"
   ]
  },
  {
   "cell_type": "code",
   "execution_count": 2,
   "metadata": {},
   "outputs": [
    {
     "name": "stdout",
     "output_type": "stream",
     "text": [
      "[1, 2, 3, 4, 5, 6, 7, 8, 9, 10, 11, 12, 13, 14, 15, 16, 17, 18, 19, 20, 21, 22, 23, 24, 25]\n",
      "[3, 5, 6, 9, 10, 12, 15, 18, 20, 21, 24, 25]\n"
     ]
    }
   ],
   "source": [
    "x = list(range(1,26))\n",
    "print(x)\n",
    "xs = []\n",
    "for i in x:\n",
    "    if i % 3 == 0 and i % 5 == 0:\n",
    "        xs.append(i)\n",
    "    elif i % 3 == 0:\n",
    "        xs.append(i)\n",
    "    elif i % 5 == 0:\n",
    "        xs.append(i)\n",
    "print(xs)"
   ]
  },
  {
   "cell_type": "markdown",
   "metadata": {},
   "source": [
    "Question 4. Remove every 3rd element from the list from a list of size 25 and print the list"
   ]
  },
  {
   "cell_type": "code",
   "execution_count": 3,
   "metadata": {},
   "outputs": [
    {
     "name": "stdout",
     "output_type": "stream",
     "text": [
      "[101, 102, 103, 105, 106, 107, 109, 110, 111, 113, 114, 115, 117, 118, 119, 121, 122, 123]\n"
     ]
    }
   ],
   "source": [
    "x = list(range(100,125))\n",
    "for i,v in enumerate(x):\n",
    "    if i % 3 == 0:\n",
    "        x.pop(i)\n",
    "print(x)    "
   ]
  },
  {
   "cell_type": "markdown",
   "metadata": {},
   "source": [
    "take names of 10 movies from user and store them in a list, then display the list in a sorted order"
   ]
  },
  {
   "cell_type": "code",
   "execution_count": 4,
   "metadata": {},
   "outputs": [
    {
     "name": "stdout",
     "output_type": "stream",
     "text": [
      "['', 'bahubali', 'kgf', 'ram', 'ricky', 'rrr', 'sam', 'sandy', 'santosh', 'sunny']\n"
     ]
    }
   ],
   "source": [
    "movies = []\n",
    "for i in range(10):\n",
    "    movie = input(\"Enter a movie: \")\n",
    "    movies.append(movie)\n",
    "movies.sort()\n",
    "print(movies)"
   ]
  },
  {
   "cell_type": "markdown",
   "metadata": {},
   "source": [
    "create a nested list that contains triplets at each index\n",
    "[[1, 2, 3],[4, 5, 6],[7, 8, 9]]"
   ]
  },
  {
   "cell_type": "code",
   "execution_count": 5,
   "metadata": {},
   "outputs": [
    {
     "name": "stdout",
     "output_type": "stream",
     "text": [
      "[[0, 0, 0], [1, 1, 1], [2, 2, 2], [3, 3, 3], [4, 4, 4]]\n"
     ]
    }
   ],
   "source": [
    "x3 =[]\n",
    "for i in range(5):\n",
    "    x3.append([i,i,i])\n",
    "print(x3)"
   ]
  },
  {
   "cell_type": "code",
   "execution_count": 6,
   "metadata": {},
   "outputs": [
    {
     "name": "stdout",
     "output_type": "stream",
     "text": [
      "[[1, 2, 3], [4, 5, 6], [7, 8, 9]]\n"
     ]
    }
   ],
   "source": [
    "outer = []\n",
    "count = 1\n",
    "for i in range(1,4):\n",
    "    inner = []\n",
    "    for j in range(1,4):\n",
    "        inner.append(count)\n",
    "        count+=1\n",
    "    outer.append(inner)\n",
    "print(outer)"
   ]
  },
  {
   "cell_type": "code",
   "execution_count": null,
   "metadata": {},
   "outputs": [],
   "source": []
  }
 ],
 "metadata": {
  "kernelspec": {
   "display_name": "Python 3.10.4 64-bit",
   "language": "python",
   "name": "python3"
  },
  "language_info": {
   "codemirror_mode": {
    "name": "ipython",
    "version": 3
   },
   "file_extension": ".py",
   "mimetype": "text/x-python",
   "name": "python",
   "nbconvert_exporter": "python",
   "pygments_lexer": "ipython3",
   "version": "3.10.4"
  },
  "orig_nbformat": 4,
  "vscode": {
   "interpreter": {
    "hash": "f3d83e893199c2dd13952e2d652bbad60e6a99e7cbf3258554c8ec088feab5ba"
   }
  }
 },
 "nbformat": 4,
 "nbformat_minor": 2
}
