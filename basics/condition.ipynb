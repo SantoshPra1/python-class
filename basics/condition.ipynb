{
 "cells": [
  {
   "cell_type": "markdown",
   "metadata": {},
   "source": [
    "WAP to calculate the total bill of customer, gst is 5%. if the amount is less than 500 then give discount of 10%, else give discount of 20%."
   ]
  },
  {
   "cell_type": "code",
   "execution_count": 1,
   "metadata": {},
   "outputs": [
    {
     "name": "stdout",
     "output_type": "stream",
     "text": [
      "41.580000000000005\n"
     ]
    }
   ],
   "source": [
    "amt = float(input(\"enter bill amt:\"))\n",
    "gst = amt * .05\n",
    "total = amt + gst\n",
    "if total < 500:\n",
    "    disc = total * .1\n",
    "    final = total - disc\n",
    "    print(final)\n",
    "else:\n",
    "    disc = total * .2\n",
    "    final = total - disc\n",
    "    print(final)"
   ]
  },
  {
   "cell_type": "code",
   "execution_count": 2,
   "metadata": {},
   "outputs": [
    {
     "name": "stdout",
     "output_type": "stream",
     "text": [
      "yes\n"
     ]
    }
   ],
   "source": [
    "x = 20\n",
    "if x > 10:\n",
    "    print('yes')\n",
    "else:\n",
    "    print('no')"
   ]
  },
  {
   "cell_type": "code",
   "execution_count": 3,
   "metadata": {},
   "outputs": [
    {
     "name": "stdout",
     "output_type": "stream",
     "text": [
      "no\n"
     ]
    }
   ],
   "source": [
    "print('yes') if x < 10 else print('no') # optional one-liner"
   ]
  }
 ],
 "metadata": {
  "kernelspec": {
   "display_name": "Python 3.10.4 64-bit",
   "language": "python",
   "name": "python3"
  },
  "language_info": {
   "codemirror_mode": {
    "name": "ipython",
    "version": 3
   },
   "file_extension": ".py",
   "mimetype": "text/x-python",
   "name": "python",
   "nbconvert_exporter": "python",
   "pygments_lexer": "ipython3",
   "version": "3.10.4"
  },
  "orig_nbformat": 4,
  "vscode": {
   "interpreter": {
    "hash": "f3d83e893199c2dd13952e2d652bbad60e6a99e7cbf3258554c8ec088feab5ba"
   }
  }
 },
 "nbformat": 4,
 "nbformat_minor": 2
}
