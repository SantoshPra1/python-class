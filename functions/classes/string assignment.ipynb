{
 "cells": [
  {
   "cell_type": "code",
   "execution_count": 1,
   "metadata": {},
   "outputs": [
    {
     "name": "stdout",
     "output_type": "stream",
     "text": [
      "Hello\n"
     ]
    }
   ],
   "source": [
    " #1 Create a string and print it.\n",
    "\n",
    "my_string ='Hello'\n",
    "print(my_string)"
   ]
  },
  {
   "cell_type": "code",
   "execution_count": 2,
   "metadata": {},
   "outputs": [
    {
     "data": {
      "text/plain": [
       "10"
      ]
     },
     "execution_count": 2,
     "metadata": {},
     "output_type": "execute_result"
    }
   ],
   "source": [
    " #2 Take a string input and print it's length.\n",
    "\n",
    "word ='my name is'\n",
    "len(word)"
   ]
  },
  {
   "cell_type": "code",
   "execution_count": 3,
   "metadata": {},
   "outputs": [
    {
     "data": {
      "text/plain": [
       "'glutamate'"
      ]
     },
     "execution_count": 3,
     "metadata": {},
     "output_type": "execute_result"
    }
   ],
   "source": [
    " #3 Print the last word of the string Python is great using slices\n",
    "\n",
    "y =\"magnisium glutamate\"\n",
    "y[10:]"
   ]
  },
  {
   "cell_type": "code",
   "execution_count": 4,
   "metadata": {},
   "outputs": [
    {
     "name": "stdout",
     "output_type": "stream",
     "text": [
      "python\n",
      "is\n",
      "everything\n"
     ]
    }
   ],
   "source": [
    "#4 Print the each word in different line of string python is everywhere.\n",
    "\n",
    "str = \"python is everything\"\n",
    "print(*str.split(), sep=\"\\n\")"
   ]
  },
  {
   "cell_type": "code",
   "execution_count": 5,
   "metadata": {},
   "outputs": [
    {
     "data": {
      "text/plain": [
       "'selttob'"
      ]
     },
     "execution_count": 5,
     "metadata": {},
     "output_type": "execute_result"
    }
   ],
   "source": [
    "#5 Print the string Hello World! in reverse.\n",
    "\n",
    "x =\"bottles\"\n",
    "x[::-1]"
   ]
  },
  {
   "cell_type": "code",
   "execution_count": 6,
   "metadata": {},
   "outputs": [
    {
     "data": {
      "text/plain": [
       "'HOW ARE YOU'"
      ]
     },
     "execution_count": 6,
     "metadata": {},
     "output_type": "execute_result"
    }
   ],
   "source": [
    "#6 Convert the string How are you? in uppercase.\n",
    "\n",
    "x =\"How are you\"\n",
    "x.upper()[:11]"
   ]
  },
  {
   "cell_type": "code",
   "execution_count": 7,
   "metadata": {},
   "outputs": [
    {
     "data": {
      "text/plain": [
       "'how is it going'"
      ]
     },
     "execution_count": 7,
     "metadata": {},
     "output_type": "execute_result"
    }
   ],
   "source": [
    "#7 Convert the string How Is It Going? in lowercase.\n",
    "\n",
    "x =\"How Is It Going\"\n",
    "x.lower()[:15]"
   ]
  },
  {
   "cell_type": "code",
   "execution_count": 1,
   "metadata": {},
   "outputs": [
    {
     "name": "stdout",
     "output_type": "stream",
     "text": [
      "Python\n",
      "is\n",
      "easy\n",
      "to\n",
      "learn\n"
     ]
    }
   ],
   "source": [
    "#8 Join the following list by spaces( ) and print the result\n",
    "\n",
    "words = ['Python', 'is', 'easy', 'to', 'learn']\n",
    "\n",
    "for name in words:\n",
    "    print(name)"
   ]
  },
  {
   "cell_type": "code",
   "execution_count": 2,
   "metadata": {},
   "outputs": [
    {
     "name": "stdout",
     "output_type": "stream",
     "text": [
      "good morning guestlist, Mr. Jhon\n",
      "good morning guestlist, Mr. Alex\n",
      "good morning guestlist, Mr. William\n"
     ]
    }
   ],
   "source": [
    "#9 Print a multiline string using a single print\n",
    "\n",
    "guestlist = ['Mr. Jhon', 'Mr. Alex', 'Mrs. Jones', 'Mr. William']\n",
    "for name in guestlist:\n",
    "    if name.startswith('Mr.'):\n",
    "        print(f'good morning guestlist, {name}')\n"
   ]
  },
  {
   "cell_type": "code",
   "execution_count": 3,
   "metadata": {},
   "outputs": [
    {
     "name": "stdout",
     "output_type": "stream",
     "text": [
      "hello\n",
      "words\n",
      "\n"
     ]
    }
   ],
   "source": [
    "#10 Print this string to move to newline '\\n' is used. \n",
    "#(results should look exactly like the provided string)\n",
    "\n",
    "my_string = \"hello\\n\" \"words\\n\"\n",
    "print(my_string)"
   ]
  },
  {
   "cell_type": "code",
   "execution_count": 4,
   "metadata": {},
   "outputs": [
    {
     "name": "stdout",
     "output_type": "stream",
     "text": [
      "apple 5\n",
      "apple 5\n"
     ]
    }
   ],
   "source": [
    "#11 Print a variable with some text using a single print function, output should look like following.\n",
    "\n",
    "#the variable is 15\n",
    "\n",
    "name = input('enter your letter:')\n",
    "print(name,len(name))\n",
    "name = name.strip()\n",
    "print(name,len(name))"
   ]
  },
  {
   "cell_type": "code",
   "execution_count": 5,
   "metadata": {},
   "outputs": [
    {
     "name": "stdout",
     "output_type": "stream",
     "text": [
      "concatenated three different string: pythonisgreat\n"
     ]
    }
   ],
   "source": [
    "#12 concatenate thefollowing string and print the result\n",
    "s1 ='python'\n",
    "s2 ='is'\n",
    "s3 ='great'\n",
    "str=s1+s2+s3\n",
    "print(\"concatenated three different string:\",str)"
   ]
  },
  {
   "cell_type": "code",
   "execution_count": 6,
   "metadata": {},
   "outputs": [
    {
     "data": {
      "text/plain": [
       "'####################'"
      ]
     },
     "execution_count": 6,
     "metadata": {},
     "output_type": "execute_result"
    }
   ],
   "source": [
    "#13 Print # 20 times without using a loop\n",
    "\n",
    "'#' * 20"
   ]
  },
  {
   "cell_type": "code",
   "execution_count": 7,
   "metadata": {},
   "outputs": [
    {
     "name": "stdout",
     "output_type": "stream",
     "text": [
      "1 .\n",
      "2 .\n",
      "3 .\n",
      "4 .\n",
      "5 .\n",
      "6 .\n",
      "7 .\n",
      "8 .\n",
      "9 .\n"
     ]
    }
   ],
   "source": [
    "#14 Print numbers from 1 to 9, each on a seperate line, followed by a dot, output should look like the following-\n",
    "1.\n",
    "2.\n",
    "3.\n",
    "\n",
    "\n",
    "for i in range(1,10): \n",
    "    print(i,\".\") "
   ]
  },
  {
   "cell_type": "code",
   "execution_count": 9,
   "metadata": {},
   "outputs": [
    {
     "name": "stdout",
     "output_type": "stream",
     "text": [
      "apple\n",
      "is\n",
      "good\n"
     ]
    }
   ],
   "source": [
    "#15 Ask user to input a sentence and print each word on a different line.\n",
    "str = input('Enter a sentence')\n",
    "print(*str.split(),sep='\\n')"
   ]
  },
  {
   "cell_type": "code",
   "execution_count": 10,
   "metadata": {},
   "outputs": [
    {
     "name": "stdout",
     "output_type": "stream",
     "text": [
      "True\n"
     ]
    }
   ],
   "source": [
    "#16 Ask user to input a string and check if the string ends with '?'\n",
    "str =input(\"enter the string :\")\n",
    "x =str.endswith(\"?\")\n",
    "print(x)"
   ]
  },
  {
   "cell_type": "code",
   "execution_count": null,
   "metadata": {},
   "outputs": [],
   "source": [
    "#17 Ask user to input a string and print how many times e appeared in the string\n",
    "str = input(\"enter the string:\")\n",
    "str.count('e')"
   ]
  },
  {
   "cell_type": "code",
   "execution_count": null,
   "metadata": {},
   "outputs": [],
   "source": [
    "#18 Check if the user input is a number.\n",
    "\n",
    "user_input =input (\"enter the input\")\n",
    "print(user_input.isnumeric())"
   ]
  },
  {
   "cell_type": "code",
   "execution_count": null,
   "metadata": {},
   "outputs": [],
   "source": [
    "#19 Remove the extra spaces in beginning and in the end of the following string-\n",
    "#text = '   this is not a good string\n",
    "\n",
    "text = '    this is not a good string '\n",
    "print (text.strip())"
   ]
  },
  {
   "cell_type": "code",
   "execution_count": null,
   "metadata": {},
   "outputs": [],
   "source": [
    "#20 Ask user to input string, print found if any of the character is upper case.\n",
    "str =input(\"enter the string\")\n",
    "for ele in str:\n",
    "    if ele.isupper():\n",
    "        print('found')"
   ]
  },
  {
   "cell_type": "code",
   "execution_count": null,
   "metadata": {},
   "outputs": [],
   "source": [
    "#21 Extract names from the following string and store them in a list.\n",
    "#names = 'Joe, David, Mark, Tom, Chris, Robert'\n",
    "\n",
    "names = 'Joe, David, Mark, Tom, Chris, Robert'\n",
    "print(names.split())"
   ]
  },
  {
   "cell_type": "code",
   "execution_count": null,
   "metadata": {},
   "outputs": [],
   "source": [
    "#22 In the following string, add aye in the end of every word and print the results.\n",
    "#text = 'this is some text'\n",
    "text = 'this is some text' \n",
    "seprate = text.split()\n",
    "print ('seprate=',seprate)\n",
    "for i in seprate:\n",
    "    print(i,'aye')"
   ]
  },
  {
   "cell_type": "code",
   "execution_count": null,
   "metadata": {},
   "outputs": [],
   "source": [
    "#23ask user to enter a string and check if the string contains fyi\n",
    "\n",
    "str = input('enter a string')\n",
    "substr ='fyi'\n",
    "s =str.split()\n",
    "if substr in s :\n",
    "    print('yes')\n",
    "else:\n",
    "    print('no')    \n"
   ]
  },
  {
   "cell_type": "code",
   "execution_count": null,
   "metadata": {},
   "outputs": [],
   "source": [
    "#24 Remove all the special characters and numbers from the following string\n",
    "#text = '%p34@y!*-*!t68h#&on404'\n",
    "\n",
    "s = '%p34@y!*-*!t68h#&on404'\n",
    "s1 =s.replace('%','')\n",
    "s2 =s1.replace('@','')\n",
    "s3 =s2.replace('!','')\n",
    "s4 =s3.replace('-','')\n",
    "s5 =s4.replace('&','')\n",
    "s6 =s5.replace('#','')\n",
    "s7 =s6.replace('*','')\n",
    "\n",
    "print(s7)"
   ]
  },
  {
   "cell_type": "code",
   "execution_count": 8,
   "metadata": {},
   "outputs": [
    {
     "data": {
      "text/plain": [
       "4.3"
      ]
     },
     "execution_count": 8,
     "metadata": {},
     "output_type": "execute_result"
    }
   ],
   "source": [
    "# 25calculate the average word length of the following paragraph.\n",
    "#  this is a paragraph which is written just for the purpose of providing content to let the average word length be calculated\n",
    "\n",
    "\n",
    "\n",
    "paragraph ='this is a paragraph which is written just for the purpose of providing content to let the average word is '\n",
    "words =paragraph.split()\n",
    "average = sum(len(word)for word in words)/len(words)\n",
    "average"
   ]
  }
 ],
 "metadata": {
  "kernelspec": {
   "display_name": "Python 3.10.4 64-bit",
   "language": "python",
   "name": "python3"
  },
  "language_info": {
   "codemirror_mode": {
    "name": "ipython",
    "version": 3
   },
   "file_extension": ".py",
   "mimetype": "text/x-python",
   "name": "python",
   "nbconvert_exporter": "python",
   "pygments_lexer": "ipython3",
   "version": "3.10.4"
  },
  "orig_nbformat": 4,
  "vscode": {
   "interpreter": {
    "hash": "f3d83e893199c2dd13952e2d652bbad60e6a99e7cbf3258554c8ec088feab5ba"
   }
  }
 },
 "nbformat": 4,
 "nbformat_minor": 2
}
